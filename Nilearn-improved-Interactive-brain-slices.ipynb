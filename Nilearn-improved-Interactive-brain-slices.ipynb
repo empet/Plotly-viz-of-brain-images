{
 "cells": [
  {
   "cell_type": "markdown",
   "metadata": {},
   "source": [
    "## Interactive brain slice selection and plotting,  with nilearn and Plotly"
   ]
  },
  {
   "cell_type": "markdown",
   "metadata": {},
   "source": [
    "Recently a new `nilearn` [https://github.com/nilearn/nilearn](https://github.com/nilearn/nilearn) version was released. \n",
    "The interactive visualization of statistical map slices, as a new feature introduced in this version, suggested a few Plotly experiments intended to visualize more info on  slices during cut point  selection, brain slice plotting or 3d animation."
   ]
  },
  {
   "cell_type": "markdown",
   "metadata": {},
   "source": [
    "`nilearn` works with NIfTI images, a common format in  neuroimaging (brain imaging). The NIfTI  images can have  at least 3 dimesions.\n",
    "The first 3 dimensions are spatial, the fourh one, if exists, is a temporal one, and other dimensions are user defined.\n",
    "\n",
    "A 3d image array has as basic elements the voxels. A  voxel index, (i, j, k), points out its position in the image.\n",
    "But the  voxel coordinate system  does not give any information on the  physical dimensions (units) or\n",
    "on how  the head (brain) relates to the voxel indices. That's why  the volumetric description of the imaging data as a 3d array is complemented with a $4\\times 4$ affine transformation, that maps a voxel index, (i, j, k; 1), to MNI (Montreal Neurological Institute) spatial coordinates, $(x,y,z;1)$.\n",
    "\n",
    "The MNI coordinate system is a right coordinate system (i.e the cross product of the unit vectors of Ox, Oy axes is the unit vector for the Oz axis), that has the origin at an anatomical point called, *anterior commissure* [http://imaging.mrc-cbu.cam.ac.uk/imaging/FindingCommissures](http://imaging.mrc-cbu.cam.ac.uk/imaging/FindingCommissures) and the ] axes are oriented like in the image below: "
   ]
  },
  {
   "cell_type": "code",
   "execution_count": 4,
   "metadata": {},
   "outputs": [
    {
     "data": {
      "text/html": [
       "<img src=\"http://www.fieldtriptoolbox.org/_media/faq/coordinatesystem_neuromag.png?w=200&tok=e89b5d\"/>"
      ],
      "text/plain": [
       "<IPython.core.display.Image object>"
      ]
     },
     "execution_count": 4,
     "metadata": {},
     "output_type": "execute_result"
    }
   ],
   "source": [
    "from IPython.display import Image\n",
    "Image(url='http://www.fieldtriptoolbox.org/_media/faq/coordinatesystem_neuromag.png?w=200&tok=e89b5d')"
   ]
  },
  {
   "cell_type": "markdown",
   "metadata": {},
   "source": [
    "MNI units are milimeters. The 3d image data are transformed by the associated affine transformation such that\n",
    " to match an averaged brain template, called MNI152 (is it s an average brain taken from MRI's of 152 healthy individuals). \n"
   ]
  },
  {
   "cell_type": "markdown",
   "metadata": {},
   "source": [
    "The code below is  the first attempt to use Plotly for selection and  brain slice  plotting:"
   ]
  },
  {
   "cell_type": "code",
   "execution_count": null,
   "metadata": {},
   "outputs": [],
   "source": [
    "import plotly.graph_objs as go\n",
    "import plotly.tools as tls"
   ]
  },
  {
   "cell_type": "code",
   "execution_count": null,
   "metadata": {},
   "outputs": [],
   "source": [
    "import numpy as np\n",
    "import copy\n",
    "from matplotlib import cm as mpl_cm\n",
    "import matplotlib as mpl\n",
    "from nilearn import (plotting, _utils)"
   ]
  },
  {
   "cell_type": "code",
   "execution_count": null,
   "metadata": {},
   "outputs": [],
   "source": [
    "def mpl_to_plotly(cmap, pl_entries):\n",
    "    # convert a mpl colormap to a Plotly colorscale with pl_entries (colors)\n",
    "    h=1.0/(pl_entries-1)\n",
    "    pl_colorscale=[]\n",
    "    for k in range(pl_entries):\n",
    "        C=list(map(np.uint8, np.array(cmap(k*h)[:3])*255))\n",
    "        pl_colorscale.append([round(k*h,2), f'rgb({C[0]}, {C[1]}, {C[2]})'])\n",
    "    return pl_colorscale"
   ]
  },
  {
   "cell_type": "code",
   "execution_count": null,
   "metadata": {},
   "outputs": [],
   "source": [
    "def colorscale(cmap, values, threshold=None, symmetric_cmap=True,\n",
    "               vmax=None, vmin=None):\n",
    "    \"\"\"This function modifies nilearn.plotting.js_plotting_utils.colorscale:\n",
    "    https://github.com/nilearn/nilearn/blob/master/nilearn/plotting/js_plotting_utils.py#L192\n",
    "    It defines a Plotly colorscale or a mixed Plotly colorscale from a given nilearn or matplotlib colormap,\n",
    "    and extracts the color range \"\"\"\n",
    "    \n",
    "    cmap = mpl_cm.get_cmap(cmap)\n",
    "    abs_values = np.abs(values)\n",
    "    \n",
    "    if not symmetric_cmap and (values.min() < 0):\n",
    "        warnings.warn('you have specified symmetric_cmap=False '\n",
    "                      'but the map contains negative values; '\n",
    "                      'setting symmetric_cmap to True')\n",
    "        symmetric_cmap = True\n",
    "    if symmetric_cmap and vmin is not None:\n",
    "        warnings.warn('vmin cannot be chosen when cmap is symmetric')\n",
    "        vmin = None\n",
    "    if threshold is not None:\n",
    "        if vmin is not None:\n",
    "            warnings.warn('choosing both vmin and a threshold is not allowed; '\n",
    "                          'setting vmin to 0')\n",
    "        vmin = 0\n",
    "    if vmax is None:\n",
    "        vmax = abs_values.max()\n",
    "    if symmetric_cmap:\n",
    "        vmin = - vmax\n",
    "    if vmin is None:\n",
    "        vmin = values.min()\n",
    "    \n",
    "    #Define a mixed colorscale consisting from 3 parts, with gray at center, and  and two diverging cmaps outside\n",
    "    L=11\n",
    "    abs_threshold = None\n",
    "    if threshold is not None:\n",
    "        abs_threshold = _utils.param_validation.check_threshold(threshold, values, _utils.extmath.fast_abs_percentile)\n",
    "        norm = mpl.colors.Normalize(vmin=vmin, vmax=vmax)\n",
    "        ca = norm(-abs_threshold)\n",
    "        cb = norm(abs_threshold)\n",
    "        h1 = ca/L\n",
    "        dl = [k*h1 for k in range(L)]\n",
    "        h2 = (cb-ca) / (L-1)\n",
    "        dc = [ca+k*h2 for k in range(L)]\n",
    "        h3 = (1-cb-h2) / (L-1)\n",
    "        dr = [cb+h2+k*h3 for k in range(L)]\n",
    "        d = dl+dc+dr\n",
    "        cmaplist = [cmap(t)[:3] for t in d]\n",
    "        for k in range(L):  \n",
    "            cmaplist[k+L] = mpl_cm.gray(k*0.1)[:3]\n",
    "            \n",
    "        pl_colorscale = []\n",
    "   \n",
    "        for k, t in enumerate(d):\n",
    "            c = list(map(np.uint8, np.array(cmaplist[k])*255))\n",
    "            pl_colorscale.append([round(t,3), f'rgb({c[0]}, {c[1]}, {c[2]})'])  \n",
    "    else:\n",
    "        pl_colorscale = mpl_to_plotly(cmap, L)\n",
    "    return  {\n",
    "        'colorscale': pl_colorscale, 'vmin': vmin, 'vmax': vmax, \n",
    "        'abs_threshold': abs_threshold}"
   ]
  },
  {
   "cell_type": "code",
   "execution_count": null,
   "metadata": {},
   "outputs": [],
   "source": [
    "def pl_view_img(stat_map_img,  bg_img='MNI152', \n",
    "             threshold=1e-6,\n",
    "             cmap=plotting.cm.cold_hot,\n",
    "             symmetric_cmap=True,\n",
    "             dim='auto',\n",
    "             vmax=None,\n",
    "             vmin=None,\n",
    "             resampling_interpolation='continuous',\n",
    "             **kwargs):\n",
    "    \"\"\"\n",
    "    Reads and processes the background image (MNI152) and a stats image, to be able to\n",
    "    perform an interactive Plotly view of the coresponding statistical map;\n",
    "    THIS IS a MODIFIED version of the nilearn view_img function:\n",
    "    https://github.com/nilearn/nilearn/blob/master/nilearn/plotting/html_stat_map.py#L332\n",
    "    \n",
    "    Returns\n",
    "    -------\n",
    "    color_info, background, statistical and mask NIfTI images,\n",
    "    the affine transformation associated to the processed stat image,\n",
    "    \n",
    "        \n",
    "    \"\"\"    \n",
    "   \n",
    "    mask_img, stat_map_img, data, threshold = plotting.html_stat_map._mask_stat_map(stat_map_img, threshold)\n",
    "    color_info = colorscale(cmap, data.ravel(), threshold=threshold, \n",
    "                        symmetric_cmap=symmetric_cmap, vmax=vmax,\n",
    "                        vmin=vmin)\n",
    "  \n",
    "    bg_img, bg_min, bg_max, black_bg = plotting.html_stat_map._load_bg_img(stat_map_img, bg_img, dim)\n",
    "    \n",
    "    stat_map_img, mask_img = plotting.html_stat_map._resample_stat_map(stat_map_img, bg_img, mask_img,\n",
    "                                                resampling_interpolation)\n",
    "   \n",
    "    affine_transf = stat_map_img.affine\n",
    "   \n",
    "    return [color_info,  \n",
    "            _utils.niimg._safe_get_data(bg_img, ensure_finite=True), \n",
    "            stat_map_img, \n",
    "            _utils.niimg._safe_get_data(mask_img, ensure_finite=True), \n",
    "            affine_transf]\n"
   ]
  },
  {
   "cell_type": "code",
   "execution_count": null,
   "metadata": {},
   "outputs": [],
   "source": [
    "def get_plotly_heatmaps(bg_img, stat_map_img,  mask_img,  affine_transf, color_info,\n",
    "                        cut_coords= None, threshold=3):\n",
    "             \n",
    "    # Extract data from the three  NIfTI images  needed to define the  Plotly heatmap traces\n",
    "    # representing the brain slices\n",
    "    \n",
    "    # bg_img:  a numpy array storing the background image data\n",
    "    # stat_map_img:  a NIfTI image, NOT its data  yet\n",
    "    # mask_img: numpy array; mask image data\n",
    "    # affine_transf: numpy array of shape (4,4) as  the affine transformation of the stat_map_img\n",
    "    # cut_coords: 3-list giving the MNI coordinates where the brain cut is performed\n",
    "    # color_info: dict for plotly colorscale, and vmin, vmax values to be colormapped\n",
    "    \n",
    "    # Returns \n",
    "    # the Plotly heatmap traces \n",
    "    # and the min-max values of MNI coordinates in each direction\n",
    "    \n",
    "    cut_slices =  plotting.html_stat_map._get_cut_slices(stat_map_img, cut_coords, threshold)\n",
    "    \n",
    "    stat_map_img = _utils.niimg._safe_get_data(stat_map_img, ensure_finite=True)  \n",
    "    \n",
    "    \n",
    "    #min-max MNI-coordinates  corresponding to min-max voxel indices i, j, k\n",
    "    xMNI_min, yMNI_min, zMNI_min = affine_transf[:, 3][:3]\n",
    "    imax, jmax, kmax = stat_map_img.shape \n",
    "    xMNI_max, yMNI_max, zMNI_max, one = np.dot(affine_transf, [imax-1, jmax-1, kmax-1, 1])\n",
    "    \n",
    "    pl_colorscale=color_info['colorscale']\n",
    "    vmin=color_info['vmin']\n",
    "    vmax=color_info['vmax']\n",
    "    abs_threshold=color_info['abs_threshold']\n",
    "    \n",
    "    islice, jslice, kslice = np.array(cut_slices-1, int)# voxel indices corresponding to cut_slices\n",
    "    \n",
    "    # Mix the backgraound  and statistical image values according to mask image:\n",
    "    a, b = -abs_threshold, abs_threshold\n",
    "    vmin_bg, vmax_bg = bg_img.min(), bg_img.max()\n",
    "    final_img = copy.deepcopy(stat_map_img) #define the image that will be plotted\n",
    "    alpha = (b-a) / (vmax_bg-vmin_bg)  \n",
    "    new_bg = a + alpha * (bg_img-vmin_bg) # map bg_img vals to [a,b]\n",
    "    I, J, K = np.where(mask_img==1)\n",
    "    final_img[I, J, K] = new_bg[I, J, K]\n",
    "    \n",
    "    # Define  2d arrays storing the image values in the three slices:\n",
    "    xsts = final_img[islice, :, :]\n",
    "    ysts = final_img[:, jslice, :]\n",
    "    zsts = final_img[:, :, kslice]\n",
    "    \n",
    "    # Trace definition:  The second char in the  x, y, z names\n",
    "    # represents the slice name\n",
    "    #x-slice:\n",
    "    xx = np.linspace(yMNI_min, yMNI_max, jmax)\n",
    "    yx = np.linspace(zMNI_min, zMNI_max, kmax)\n",
    "    textx = [[f'y: {xx[j]}<br>z: {yx[i]}<br>val: '+'{:.2f}'.format(xsts.T[i,j]) for j in range(jmax)] \n",
    "              for i in range(kmax)]\n",
    "\n",
    "    slicex = dict(type='heatmap',\n",
    "               zsmooth='best',\n",
    "               x=xx,\n",
    "               y=yx,\n",
    "               z=xsts.T,\n",
    "               text=textx, \n",
    "               colorscale=pl_colorscale,     \n",
    "               colorbar=dict(thickness=20, ticklen=4, tick0=-7, dtick=2),\n",
    "               showscale=False, \n",
    "               hoverinfo='text', \n",
    "               zmin=vmin,\n",
    "               zmax=vmax)\n",
    "   # y-slice\n",
    "    xy = np.linspace(xMNI_min, xMNI_max, imax)\n",
    "    yy = np.linspace(zMNI_min, zMNI_max, kmax)\n",
    "    texty = [[f'x: {xy[j]}<br>z: {yy[i]}<br>val: '+'{:.2f}'.format(ysts.T[i,j]) for j in range(imax)]\n",
    "                          for i in range(kmax)]\n",
    "\n",
    "    slicey = dict(type='heatmap',\n",
    "               x=xy,\n",
    "               y=yy,  \n",
    "               z=ysts.T,\n",
    "               text=texty, \n",
    "               zsmooth='best', \n",
    "               colorscale=pl_colorscale,    \n",
    "               colorbar=dict(thickness=20, ticklen=4, tick0=-7, dtick=2),\n",
    "               showscale=False, \n",
    "               hoverinfo='text', \n",
    "               zmin=vmin,\n",
    "               zmax=vmax)\n",
    "    # z-slice\n",
    "    xz = np.linspace(xMNI_min, xMNI_max, imax)\n",
    "    yz = np.linspace(yMNI_min, yMNI_max, jmax)\n",
    "    textz = [[f'x: {xz[j]}<br>y: {yz[i]}<br>val: '+'{:.2f}'.format(zsts.T[i,j]) for j in range(imax)]\n",
    "          for i in range(jmax)]\n",
    "\n",
    "    slicez = dict(type='heatmap',\n",
    "               zsmooth='best',\n",
    "               x=xz,\n",
    "               y=yz, \n",
    "               z=zsts.T,\n",
    "               text=textz, \n",
    "               colorscale=pl_colorscale, \n",
    "               colorbar=dict(thickness=20, ticklen=4, tick0=np.ceil(vmin), dtick=2),\n",
    "               hoverinfo='text',\n",
    "               zmin=vmin,\n",
    "               zmax=vmax)\n",
    "    return [slicex, slicey, slicez, xMNI_min, yMNI_min, zMNI_min, xMNI_max, yMNI_max, zMNI_max]                   "
   ]
  },
  {
   "cell_type": "markdown",
   "metadata": {},
   "source": [
    "### Interactive view of brain slices through a point given in MNI-coordinates"
   ]
  },
  {
   "cell_type": "markdown",
   "metadata": {},
   "source": [
    "We define a subplot of three heatmaps representing the orthogonal brain slices through a given point in MNI-coordinates. \n",
    "A mouse click on a slice (subplot cell) retrieves the MNI coordinates that  define a new  cut point in the brain: \n",
    "    a coordinate is the coordinate of the clicked slice (let us say y in the case of \n",
    "the y-slice), and the coordinates of the clicked point (x and z in our example), that complement the first one.\n",
    "\n",
    "A callback function executed  `on_click`  retrieves a new cut point  and generates the new slices through that point.   "
   ]
  },
  {
   "cell_type": "code",
   "execution_count": null,
   "metadata": {},
   "outputs": [],
   "source": [
    "stat_img = 'image_10426.nii.gz'# from nilearn data; https://github.com/empet/Datasets/blob/master/image_10426.nii.gz?raw=true\n",
    "\n",
    "color_info,  bg_img, stat_map_img, mask_img, affine_transf = pl_view_img(stat_img, threshold=3)\n",
    "\n",
    "cut_coords = [13, -27, 50]# Important!!! define cut_coords as a list (not as a tuple!!) because it is\n",
    "                          # updated during the interactivity\n",
    "    \n",
    "slicex, slicey, slicez, xMNI_min, yMNI_min, zMNI_min, xMNI_max, yMNI_max, zMNI_max = \\\n",
    "                  get_plotly_heatmaps(bg_img, stat_map_img,  mask_img,  affine_transf, color_info,\n",
    "                        cut_coords= cut_coords, threshold=3)\n",
    "   "
   ]
  },
  {
   "cell_type": "markdown",
   "metadata": {},
   "source": [
    "The affine transformation, associated to the processed `stat_map_img` is listed below:"
   ]
  },
  {
   "cell_type": "code",
   "execution_count": null,
   "metadata": {},
   "outputs": [],
   "source": [
    "affine_transf"
   ]
  },
  {
   "cell_type": "markdown",
   "metadata": {},
   "source": [
    "It consists in a scaling of factor 2, and a translation that places the voxel of index (0,0,0) to the  point of MNI coordinates\n",
    "$(x=-90, y=-126, z=-72)$.\n"
   ]
  },
  {
   "cell_type": "markdown",
   "metadata": {},
   "source": [
    "Define the Plotly subplots:"
   ]
  },
  {
   "cell_type": "code",
   "execution_count": null,
   "metadata": {},
   "outputs": [],
   "source": [
    "fig= tls.make_subplots(subplot_titles=(f'Slice x={cut_coords[0]}', f'Slice y={cut_coords[1]}',\n",
    "                                       f'Slice z={cut_coords[2]}'),                   \n",
    "                       rows=1,\n",
    "                       cols=3,\n",
    "                       horizontal_spacing=0.065,\n",
    "                      )"
   ]
  },
  {
   "cell_type": "code",
   "execution_count": null,
   "metadata": {},
   "outputs": [],
   "source": [
    "fw = go.FigureWidget(fig) # convert fig to a FigureWidget "
   ]
  },
  {
   "cell_type": "code",
   "execution_count": null,
   "metadata": {},
   "outputs": [],
   "source": [
    "fw.add_trace(slicex, 1, 1)\n",
    "fw.add_trace(slicey, 1, 2)\n",
    "fw.add_trace(slicez, 1, 3)#HOW TO STOP THIS automaticaly json display?"
   ]
  },
  {
   "cell_type": "markdown",
   "metadata": {},
   "source": [
    "with fw.batch_update():\n",
    "    fw.layout.update(title='Orthogonal brain slices through a point',\n",
    "                    width=1000, height=425)\n",
    "    fw.layout.xaxis1.update(range=[yMNI_min, yMNI_max], title='y')\n",
    "    fw.layout.yaxis1.update(range=[zMNI_min, zMNI_max], title='z')\n",
    "    fw.layout.xaxis2.update(range=[xMNI_min, xMNI_max], title='x')\n",
    "    fw.layout.yaxis2.update(range=[zMNI_min, zMNI_max], title='z')\n",
    "    fw.layout.xaxis3.update(range=[xMNI_min, xMNI_max], title='x')\n",
    "    fw.layout.yaxis3.update(range=[yMNI_min, yMNI_max], title='y')\n",
    "   "
   ]
  },
  {
   "cell_type": "markdown",
   "metadata": {},
   "source": [
    "Now let us define a callback function to be executed when a point in one of the three slices is clicked."
   ]
  },
  {
   "cell_type": "code",
   "execution_count": null,
   "metadata": {},
   "outputs": [],
   "source": [
    "slice_name=['x', 'y', 'z']\n",
    "\n",
    "def clicked_trace(trace, points, state):\n",
    "    global cut_coords, slice_name\n",
    "    if points.trace_index in [0, 1, 2]:\n",
    "        idx = points.trace_index\n",
    "        if len(points.xs) != 0:\n",
    "            xclicked, yclicked = points.xs[0], points.ys[0]\n",
    "            if idx == 0:\n",
    "                cut_coords[1:] = [xclicked, yclicked]\n",
    "            elif idx == 1:\n",
    "                cut_coords[0], cut_coords[2] = xclicked, yclicked \n",
    "            else: # idx == 2:\n",
    "                cut_coords[:2] = [xclicked, yclicked ] \n",
    "            tr = get_plotly_heatmaps(bg_img, stat_map_img,  mask_img,  affine_transf, color_info,\n",
    "                        cut_coords= cut_coords)\n",
    "            with fw.batch_update():\n",
    "                fw.update(data=[tr[0], tr[1], tr[2]])\n",
    "                for k in range(3):\n",
    "                    fw.layout.annotations[k].text=f'Slice {slice_name[k]}={cut_coords[k]}'\n",
    "\n",
    "for trace in fw.data:                    \n",
    "    trace.on_click(clicked_trace)\n",
    "fw     "
   ]
  },
  {
   "cell_type": "markdown",
   "metadata": {},
   "source": [
    "Let display the  `nilearn` version of the above slices:"
   ]
  },
  {
   "cell_type": "code",
   "execution_count": null,
   "metadata": {},
   "outputs": [],
   "source": [
    "%matplotlib inline\n",
    "\n",
    "view = plotting.view_img(stat_img, cut_coords=cut_coords, threshold=3)\n",
    "view"
   ]
  },
  {
   "cell_type": "markdown",
   "metadata": {},
   "source": [
    "The Plotly plot displays the range of axes, and provides the possibility to select a particular point \n",
    "in a slice, by hovering an area of interest, and choosing the  point of desired coordinates,\n",
    "while in the original nilearn plot  a blind point selection is performed, whose coordinates are seen a posteriori."
   ]
  },
  {
   "cell_type": "markdown",
   "metadata": {},
   "source": [
    "To realize how Plotly cut point selection works, before running this notebook,  see the gif file:"
   ]
  },
  {
   "cell_type": "code",
   "execution_count": 3,
   "metadata": {},
   "outputs": [
    {
     "data": {
      "text/html": [
       "<img src='2d-brain-slices.gif'>"
      ],
      "text/plain": [
       "<IPython.core.display.HTML object>"
      ]
     },
     "metadata": {},
     "output_type": "display_data"
    }
   ],
   "source": [
    "%%html\n",
    "<img src='2d-brain-slices.gif'>"
   ]
  },
  {
   "cell_type": "code",
   "execution_count": null,
   "metadata": {},
   "outputs": [],
   "source": []
  }
 ],
 "metadata": {
  "kernelspec": {
   "display_name": "Python 3",
   "language": "python",
   "name": "python3"
  },
  "language_info": {
   "codemirror_mode": {
    "name": "ipython",
    "version": 3
   },
   "file_extension": ".py",
   "mimetype": "text/x-python",
   "name": "python",
   "nbconvert_exporter": "python",
   "pygments_lexer": "ipython3",
   "version": "3.6.4"
  }
 },
 "nbformat": 4,
 "nbformat_minor": 2
}
