{
 "cells": [
  {
   "cell_type": "markdown",
   "metadata": {},
   "source": [
    "Imaging methods such as MRI and CT result in 3-D volumetric representations of the data, e.g. with 256x256x256 voxels. You can think of this representation as having a “voxel” coordinate system, where voxel (1, 1, 1) is the first and (256, 256, 256) the last in the volume. The voxel coordinate system however does not specify the physical dimensions (e.g. mm or cm) and does not specify how the head (which is somewhere within the volume) relates to the voxel indices. Therefore a volumetric description of imaging data as a 3-D array has to be complemented with a description of the head coordinate system. This description is commonly implemented using a 4×4 homogenous coordinate transformation matrix, for which an excellent description is available here.\n",
    "\n",
    "The origin of the MNI coordinate system is the anterior commissure\n",
    "The X-axis extends from the left side of the brain to the right side\n",
    "The Y-axis points from posterior to anterior\n",
    "The Z-axis points from inferior to superior\n",
    "\n",
    "MNI or SPM is used if the geometry is spatially warped to the MNI152 template brain."
   ]
  },
  {
   "cell_type": "raw",
   "metadata": {},
   "source": [
    "Voxel coordinates are coordinates in the image data array.\n",
    "\n",
    "\n",
    "We solve this problem by keeping track of the relationship of voxel coordinates to some reference space. In particular, the affine array stores the relationship between voxel coordinates in the image data array and coordinates in the reference space"
   ]
  },
  {
   "cell_type": "markdown",
   "metadata": {},
   "source": [
    "A Nifti (Neuroimaging Informatics Technology Initiative) image contains, along with its 3D or 4D data content, a 4x4 matrix\n",
    "encoding an affine transformation that maps the data array into millimeter\n",
    "space. If (i, j, k) encodes an integer position (voxel) with the data array,\n",
    "then adding 1 as a fourth entry, (i, j, k, 1), and multiplying by the affine\n",
    "matrix yields (x, y, z, 1), a 4-vector containing the millimeter position of\n",
    "the voxel.\n",
    "\n",
    "MNI units:\tmm\t\n",
    "scaled to match averaged template\n",
    "- orientation: RAS\n",
    "- origin: anterior commissure \n",
    "- scaling: scaled to match averaged template\n",
    "\n",
    "MNI 152 is a reference map. It's an average brain taken from MRI's of 152 healthy individuals, normalized based on MNI 305, a former iteration based on 305 MRI scans of healthy individuals (male and female), which used as reference previous maps produced by hand.\n",
    "\n",
    "MNI means \"Montreal Neurosciences Institute\". So, the MNI 152 is the averaging of 152 3DT1 coming from 152 different peoples. It means that when you visualize the MNI152 image, you see an \"average brain\".\n",
    "\n",
    " Normalization is the process of warping a brain to match a standard size, orientation and shape of other brains."
   ]
  },
  {
   "cell_type": "markdown",
   "metadata": {},
   "source": [
    "Din introducerea la interactive selection: The starting point of these experiments  was the lack of MNI-coordinate ranges displayed\n",
    "for each slice in the `nilearn` interactive plotting, as well as the previously unknown point coordinates of a clicked point. With Plotly we can remedy these drawbacks  to give a more informative slice view."
   ]
  },
  {
   "cell_type": "code",
   "execution_count": null,
   "metadata": {},
   "outputs": [],
   "source": [
    "from plotly.offline import download_plotlyjs, init_notebook_mode,  iplot\n",
    "init_notebook_mode(connected=True)"
   ]
  },
  {
   "cell_type": "code",
   "execution_count": null,
   "metadata": {},
   "outputs": [],
   "source": [
    "import warnings\n",
    "warnings.filterwarnings(\"ignore\", category=DeprecationWarning)\n",
    "warnings.filterwarnings(\"ignore\")"
   ]
  },
  {
   "cell_type": "code",
   "execution_count": null,
   "metadata": {},
   "outputs": [],
   "source": [
    "import plotly.graph_objs as go"
   ]
  },
  {
   "cell_type": "code",
   "execution_count": null,
   "metadata": {},
   "outputs": [],
   "source": [
    "import numpy as np\n",
    "import copy\n",
    "from matplotlib import cm as mpl_cm\n",
    "import matplotlib as mpl\n",
    "from nilearn import (plotting, _utils)"
   ]
  },
  {
   "cell_type": "code",
   "execution_count": null,
   "metadata": {},
   "outputs": [],
   "source": [
    "from nilearn import datasets\n",
    "\n",
    "# haxby dataset to have EPI images and masks\n",
    "haxby_dataset = datasets.fetch_haxby()\n",
    "\n",
    "# print basic information on the dataset\n",
    "\"\"\"\n",
    "print('First subject anatomical nifti image (3D) is at: %s' %\n",
    "      haxby_dataset.anat[0])\n",
    "print('First subject functional nifti image (4D) is at: %s' %\n",
    "      haxby_dataset.func[0])  # 4D data\n",
    "\"\"\"\n",
    "haxby_anat_filename = haxby_dataset.anat[0]\n",
    "haxby_mask_filename = haxby_dataset.mask_vt[0]\n",
    "haxby_func_filename = haxby_dataset.func[0]\n",
    "\n",
    "# one motor contrast map from NeuroVault\n",
    "motor_images = datasets.fetch_neurovault_motor_task()\n",
    "stat_img = motor_images.images[0]\n"
   ]
  },
  {
   "cell_type": "code",
   "execution_count": null,
   "metadata": {},
   "outputs": [],
   "source": [
    "print(stat_img)"
   ]
  },
  {
   "cell_type": "code",
   "execution_count": null,
   "metadata": {},
   "outputs": [],
   "source": [
    "def mpl_to_plotly(cmap, pl_entries):\n",
    "    h=1.0/(pl_entries-1)\n",
    "    pl_colorscale=[]\n",
    "    for k in range(pl_entries):\n",
    "        C=list(map(np.uint8, np.array(cmap(k*h)[:3])*255))\n",
    "        pl_colorscale.append([round(k*h,2), f'rgb({C[0]}, {C[1]}, {C[2]})'])\n",
    "    return pl_colorscale"
   ]
  },
  {
   "cell_type": "code",
   "execution_count": null,
   "metadata": {},
   "outputs": [],
   "source": [
    "def colorscale(cmap, values, threshold=None, symmetric_cmap=True,\n",
    "               vmax=None, vmin=None):\n",
    "    \"\"\"this function modifies nilearn.plotting.js_plotting_utils.colorscale\n",
    "    It defines a Plotly colorscale from a given nilearn or matplotlib colormap,\n",
    "    extracts the color range and the threshold\"\"\"\n",
    "    \n",
    "    cmap = mpl_cm.get_cmap(cmap)\n",
    "    abs_values = np.abs(values)\n",
    "    \n",
    "    if not symmetric_cmap and (values.min() < 0):\n",
    "        warnings.warn('you have specified symmetric_cmap=False '\n",
    "                      'but the map contains negative values; '\n",
    "                      'setting symmetric_cmap to True')\n",
    "        symmetric_cmap = True\n",
    "    if symmetric_cmap and vmin is not None:\n",
    "        warnings.warn('vmin cannot be chosen when cmap is symmetric')\n",
    "        vmin = None\n",
    "    if threshold is not None:\n",
    "        if vmin is not None:\n",
    "            warnings.warn('choosing both vmin and a threshold is not allowed; '\n",
    "                          'setting vmin to 0')\n",
    "        vmin = 0\n",
    "    if vmax is None:\n",
    "        vmax = abs_values.max()\n",
    "    if symmetric_cmap:\n",
    "        vmin = - vmax\n",
    "    if vmin is None:\n",
    "        vmin = values.min()\n",
    "    \n",
    "    \n",
    "   \n",
    "    abs_threshold = None\n",
    "    if threshold is not None:\n",
    "        abs_threshold = _utils.param_validation.check_threshold(threshold, values, _utils.extmath.fast_abs_percentile)\n",
    "        norm = mpl.colors.Normalize(vmin=vmin, vmax=vmax)\n",
    "        ca = norm(-abs_threshold)\n",
    "        cb = norm(abs_threshold)\n",
    "        h1 = ca/11\n",
    "        dl = [k*h1 for k in range(11)]\n",
    "        h2 = (cb-ca) / 10\n",
    "        dc = [ca+k*h2 for k in range(11)]\n",
    "        h3 = (1-cb-h2) / 10\n",
    "        dr = [cb+h2+k*h3 for k in range(11)]\n",
    "        d = dl+dc+dr\n",
    "        cmaplist = [cmap(t)[:3] for t in d]\n",
    "        for k in range(11):  \n",
    "            cmaplist[k+11] = mpl_cm.gray(k*0.1)[:3]\n",
    "            \n",
    "        pl_colorscale = []\n",
    "   \n",
    "        for k, t in enumerate(d):\n",
    "            c = list(map(np.uint8, np.array(cmaplist[k])*255))\n",
    "            pl_colorscale.append([round(t,3), f'rgb({c[0]}, {c[1]}, {c[2]})'])  \n",
    "    else:\n",
    "        pl_colorscale = mpl_to_plotly(cmap, 11)\n",
    "    return  {\n",
    "        'colorscale': pl_colorscale, 'vmin': vmin, 'vmax': vmax, \n",
    "        'abs_threshold': abs_threshold}"
   ]
  },
  {
   "cell_type": "code",
   "execution_count": null,
   "metadata": {},
   "outputs": [],
   "source": [
    "def pl_view_img(stat_map_img,  bg_img='MNI152', cut_coords= None,\n",
    "             threshold=1e-6,\n",
    "             cmap=plotting.cm.cold_hot,\n",
    "             symmetric_cmap=True,\n",
    "             dim='auto',\n",
    "             vmax=None,\n",
    "             vmin=None,\n",
    "             resampling_interpolation='continuous',\n",
    "             **kwargs):\n",
    "    \"\"\"\n",
    "    Interactive Plotly viewer of a statistical map\n",
    "    ----------\n",
    "    stat_map_img : Niimg-like object\n",
    "        See http://nilearn.github.io/manipulating_images/input_output.html\n",
    "        The statistical map image. Can be either a 3D volume or a 4D volume\n",
    "        with exactly one time point.\n",
    "    bg_img : Niimg-like object (default='MNI152')\n",
    "        See http://nilearn.github.io/manipulating_images/input_output.html\n",
    "        The background image that the stat map will be plotted on top of.\n",
    "        If nothing is specified, the MNI152 template will be used.\n",
    "        To turn off background image, just pass \"bg_img=False\".\n",
    "    cut_coords : None, or a tuple of floats (default None)\n",
    "        The MNI coordinates of the point where the cut is performed\n",
    "        as a 3-tuple: (x, y, z). If None is given, the cuts are calculated\n",
    "        automaticaly.\n",
    "    threshold : string, number or None  (default=1e-6)\n",
    "        If None is given, the image is not thresholded.\n",
    "        If a string of the form \"90%\" is given, use the 90-th percentile of\n",
    "        the absolute value in the image.\n",
    "        If a number is given, it is used to threshold the image:\n",
    "        values below the threshold (in absolute value) are plotted\n",
    "        as transparent. If auto is given, the threshold is determined\n",
    "        automatically.\n",
    "    \n",
    "    cmap : matplotlib colormap, optional\n",
    "        The colormap for specified image.\n",
    "    symmetric_cmap : bool, optional (default=True)\n",
    "        True: make a symmetric colorscale   (ranging from -vmax to vmax).\n",
    "        False: the colormap will go from the minimum of the volume to vmax.\n",
    "        Set it to False if you are plotting a positive volume, e.g. an atlas\n",
    "        or an anatomical image.\n",
    "    dim : float, 'auto' (default='auto')\n",
    "        Dimming factor applied to background image. By default, automatic\n",
    "        heuristics are applied based upon the background image intensity.\n",
    "        Accepted float values, where a typical scan is between -2 and 2\n",
    "        (-2 = increase constrast; 2 = decrease contrast), but larger values\n",
    "        can be used for a more pronounced effect. 0 means no dimming.\n",
    "    vmax : float, or None (default=None)\n",
    "        max value for mapping colors.\n",
    "        If vmax is None and symmetric_cmap is True, vmax is the max\n",
    "        absolute value of the volume.\n",
    "        If vmax is None and symmetric_cmap is False, vmax is the max\n",
    "        value of the volume.\n",
    "    vmin : float, or None (default=None)\n",
    "        min value for mapping colors.\n",
    "        If `symmetric_cmap` is `True`, `vmin` is always equal to `-vmax` and\n",
    "        cannot be chosen.\n",
    "        If `symmetric_cmap` is `False`, `vmin` defaults to the min of the\n",
    "        image, or 0 when a threshold is used.\n",
    "    resampling_interpolation : string, optional (default continuous)\n",
    "        The interpolation method for resampling.\n",
    "        Can be 'continuous', 'linear', or 'nearest'.\n",
    "        See nilearn.image.resample_img\n",
    "    \n",
    "    Returns\n",
    "    -------\n",
    "     a dict with keys: plotly colorscale, vmin, vmax, abs_threshold\n",
    "        \n",
    "    \"\"\"    \n",
    "   \n",
    "    mask_img, stat_map_img, data, threshold = plotting.html_stat_map._mask_stat_map(stat_map_img, threshold)\n",
    "    color_info = colorscale(cmap, data.ravel(), threshold=threshold, \n",
    "                        symmetric_cmap=symmetric_cmap, vmax=vmax,\n",
    "                        vmin=vmin)\n",
    "  \n",
    "    bg_img, bg_min, bg_max, black_bg = plotting.html_stat_map._load_bg_img(stat_map_img, bg_img, dim)\n",
    "    \n",
    "    stat_map_img, mask_img = plotting.html_stat_map._resample_stat_map(stat_map_img, bg_img, mask_img,\n",
    "                                                resampling_interpolation)\n",
    "   \n",
    "    A = stat_map_img.affine\n",
    "    cut_slices =  plotting.html_stat_map._get_cut_slices(stat_map_img, cut_coords, threshold)\n",
    "    \n",
    "    return [color_info, _utils.niimg._safe_get_data(bg_img, ensure_finite=True),  \n",
    "            _utils.niimg._safe_get_data(stat_map_img, ensure_finite=True), \n",
    "            _utils.niimg._safe_get_data(mask_img, ensure_finite=True), cut_slices, A]\n"
   ]
  },
  {
   "cell_type": "markdown",
   "metadata": {},
   "source": [
    "Extract data from the NIfTI images bg_img, mask_img, stat_map_img, define the plotly colorscale:"
   ]
  },
  {
   "cell_type": "code",
   "execution_count": null,
   "metadata": {},
   "outputs": [],
   "source": [
    "#stat_img = 'image_10426.nii.gz'\n",
    "cut_coords=[13, -27, -20]#z was 50  x=13\n",
    "color_info, bg_img, stat_map_img, mask_img, cut_slices, A = pl_view_img(stat_img, cut_coords= cut_coords, threshold=3)"
   ]
  },
  {
   "cell_type": "markdown",
   "metadata": {},
   "source": [
    "min-max MNI-coordinates  corresponding to min-max voxel indices i, j, k:"
   ]
  },
  {
   "cell_type": "code",
   "execution_count": null,
   "metadata": {},
   "outputs": [],
   "source": [
    "xMNI_min, yMNI_min, zMNI_min = A[:, 3][:3]\n",
    "imax, jmax, kmax =stat_map_img.shape \n",
    "xMNI_max, yMNI_max, zMNI_max, one = np.dot(A, [imax-1, jmax-1, kmax-1, 1])"
   ]
  },
  {
   "cell_type": "code",
   "execution_count": null,
   "metadata": {},
   "outputs": [],
   "source": [
    "pl_colorscale=color_info['colorscale']\n",
    "vmin=color_info['vmin']\n",
    "vmax=color_info['vmax']\n",
    "abs_threshold=color_info['abs_threshold']\n",
    "islice, jslice, kslice = np.array(cut_slices-1, int)# voxel indices corresponding to cut_slices"
   ]
  },
  {
   "cell_type": "markdown",
   "metadata": {},
   "source": [
    "Mix the backgraound image and statistical image values according to mask_img:"
   ]
  },
  {
   "cell_type": "code",
   "execution_count": null,
   "metadata": {},
   "outputs": [],
   "source": [
    "a, b = -abs_threshold, abs_threshold\n",
    "vmin_bg, vmax_bg = bg_img.min(), bg_img.max()\n",
    "new_stat_img = copy.deepcopy(stat_map_img)\n",
    "alpha = (b-a) / (vmax_bg-vmin_bg)  \n",
    "new_bg = a + alpha * (bg_img-vmin_bg) # map bg_img vals to [a,b]\n",
    "I, J, K = np.where(mask_img==1)\n",
    "new_stat_img[I, J, K] = new_bg[I, J, K]"
   ]
  },
  {
   "cell_type": "markdown",
   "metadata": {},
   "source": [
    "Define the 2d arrays cooresponding to the three slices:"
   ]
  },
  {
   "cell_type": "code",
   "execution_count": null,
   "metadata": {},
   "outputs": [],
   "source": [
    "xsts = new_stat_img[islice, :, :]\n",
    "ysts = new_stat_img[:, jslice, :]\n",
    "zsts = new_stat_img[:, :, kslice]"
   ]
  },
  {
   "cell_type": "markdown",
   "metadata": {},
   "source": [
    "### Plotly plots of  slices in the 3d space referenced to the MNI-system of coordinates"
   ]
  },
  {
   "cell_type": "markdown",
   "metadata": {},
   "source": [
    "Define the arrays containing the voxel coordinates of the points in each slice:"
   ]
  },
  {
   "cell_type": "code",
   "execution_count": null,
   "metadata": {},
   "outputs": [],
   "source": [
    "yx = list(range(xsts.shape[0]))\n",
    "zx = list(range(xsts.shape[1]))\n",
    "yx, zx = np.meshgrid(yx, zx)\n",
    "xx = islice * np.ones(xsts.T.shape)\n",
    "\n",
    "xy = list(range(ysts.shape[0]))\n",
    "zy = list(range(ysts.shape[1]))\n",
    "xy, zy = np.meshgrid(xy, zy)\n",
    "yy = jslice * np.ones(ysts.T.shape)\n",
    "\n",
    "xz = list(range(zsts.shape[0]))\n",
    "yz = list(range(zsts.shape[1]))\n",
    "xz, yz = np.meshgrid(xz,yz)\n",
    "zz = kslice * np.ones(zsts.T.shape)"
   ]
  },
  {
   "cell_type": "markdown",
   "metadata": {},
   "source": [
    "Transform voxel indices to MNI coordinates:"
   ]
  },
  {
   "cell_type": "code",
   "execution_count": null,
   "metadata": {},
   "outputs": [],
   "source": [
    "xx, yx, zx, one_arr = np.einsum('ik, kjm -> ijm', A, np.stack((xx, yx, zx, np.ones(xx.shape)))) \n",
    "xy, yy, zy, one_arr = np.einsum('ik, kjm -> ijm', A, np.stack((xy, yy, zy, np.ones(yy.shape)))) \n",
    "xz, yz, zz, one_arr = np.einsum('ik, kjm -> ijm', A, np.stack((xz, yz, zz, np.ones(zz.shape)))) "
   ]
  },
  {
   "cell_type": "markdown",
   "metadata": {},
   "source": [
    "Define the Plotly surfaces representing the three slices:"
   ]
  },
  {
   "cell_type": "code",
   "execution_count": null,
   "metadata": {},
   "outputs": [],
   "source": [
    "slicex=dict(type='surface',\n",
    "            x=xx,\n",
    "            y=yx,\n",
    "            z=zx,\n",
    "            name='x-slice',\n",
    "            surfacecolor=xsts.T,\n",
    "            colorscale=pl_colorscale,     \n",
    "            colorbar=dict(thickness=20, ticklen=4, tick0=-7, dtick=2, len=0.75),\n",
    "            cmin=vmin,\n",
    "            cmax=vmax\n",
    "           )\n",
    "\n",
    "slicey=dict(type='surface',\n",
    "            x=xy,\n",
    "            y=yy,\n",
    "            z=zy,\n",
    "            name='y-slice',\n",
    "            surfacecolor=ysts.T,\n",
    "            colorscale=pl_colorscale,    \n",
    "            colorbar=dict(thickness=20, ticklen=4, tick0=-7, dtick=2, len=0.75),\n",
    "            cmin=vmin,\n",
    "            cmax=vmax)\n",
    "slicez=dict(type='surface',\n",
    "            x=xz,\n",
    "            y=yz,\n",
    "            z=zz,\n",
    "            name='z-slice',\n",
    "            surfacecolor=zsts.T,\n",
    "            colorscale=pl_colorscale, \n",
    "            colorbar=dict(thickness=20, ticklen=4, tick0=-7, dtick=2, len=0.75),\n",
    "            cmin=vmin,\n",
    "            cmax=vmax)                 "
   ]
  },
  {
   "cell_type": "code",
   "execution_count": null,
   "metadata": {},
   "outputs": [],
   "source": [
    "axis3d = dict(showbackground=True, \n",
    "            backgroundcolor=\"rgb(230, 230,230)\",\n",
    "            gridcolor=\"rgb(255, 255, 255)\",      \n",
    "            zerolinecolor=\"rgb(255, 255, 255)\", \n",
    "            ticklen=4,\n",
    "            tickfont=dict(size=11)  \n",
    "            )\n",
    "\n",
    "\n",
    "layout = dict(width=700,\n",
    "              height=700,\n",
    "              scene=dict(xaxis=dict(axis3d),\n",
    "                    yaxis=dict(axis3d), \n",
    "                    zaxis=dict(axis3d),\n",
    "                    camera=dict(eye=dict(x=-1.25, y=-1.25, z=1))     \n",
    "                    ),\n",
    "         )"
   ]
  },
  {
   "cell_type": "code",
   "execution_count": null,
   "metadata": {},
   "outputs": [],
   "source": [
    "figxyz=go.Figure(data=[slicex, slicey, slicez], layout=layout)\n",
    "figxyz['layout']['title']=f'Orthogonal brain slices through the point<br> of  MNI coords {cut_coords}'\n",
    "\n",
    "iplot(figxyz)"
   ]
  },
  {
   "cell_type": "code",
   "execution_count": null,
   "metadata": {},
   "outputs": [],
   "source": [
    "import plotly.plotly as py\n",
    "#py.sign_in('empet', 'isVGpT2zbkjE5AzU5pGr')\n",
    "#py.iplot(figxyz, filename='ortho-brain-slices')"
   ]
  },
  {
   "cell_type": "code",
   "execution_count": null,
   "metadata": {},
   "outputs": [],
   "source": [
    "figx = go.Figure(data=[slicex], layout=layout)\n",
    "figx.layout.title = 'A statistical map mapped on a  brain x-slice background'\n",
    "figx.layout.scene.xaxis.range=[xMNI_min, xMNI_max]\n",
    "#iplot(figx)"
   ]
  },
  {
   "cell_type": "code",
   "execution_count": null,
   "metadata": {},
   "outputs": [],
   "source": [
    "import plotly.plotly as py\n",
    "#py.sign_in('empet', 'isVGpT2zbkjE5AzU5pGr')\n",
    "#py.iplot(figx, filename='brain-x-slice')"
   ]
  },
  {
   "cell_type": "code",
   "execution_count": null,
   "metadata": {},
   "outputs": [],
   "source": [
    "figz=go.Figure(data=[slicez], layout=layout)\n",
    "figz['layout']['title']='Brain z-slice'\n",
    "figz.layout.scene.zaxis.range=[zMNI_min, zMNI_max]\n",
    "#iplot(figz)"
   ]
  },
  {
   "cell_type": "code",
   "execution_count": null,
   "metadata": {},
   "outputs": [],
   "source": [
    "figy=go.Figure(data=[slicey], layout=layout)\n",
    "figy['layout']['title']='Brain y-slice'\n",
    "figy.layout.scene.yaxis.range=[yMNI_min, yMNI_max]\n",
    "#iplot(figy)"
   ]
  },
  {
   "cell_type": "markdown",
   "metadata": {},
   "source": [
    "## 2d plots of slices"
   ]
  },
  {
   "cell_type": "code",
   "execution_count": null,
   "metadata": {},
   "outputs": [],
   "source": [
    "import plotly.graph_objs as go\n",
    "import ipywidgets as ipw"
   ]
  },
  {
   "cell_type": "code",
   "execution_count": null,
   "metadata": {},
   "outputs": [],
   "source": [
    "xx2 = np.linspace(yMNI_min, yMNI_max, jmax)\n",
    "yx2 = np.linspace(zMNI_min, zMNI_max, kmax)\n",
    "textx2 = [[f'y: {xx2[j]}<br>z: {yx2[i]}<br>val:'+'{:.2f}'.format(xsts.T[i,j]) for j in range(jmax)] \n",
    "          for i in range(kmax)]\n",
    "\n",
    "slicex2 = dict(type='heatmap',\n",
    "               #zsmooth='best',\n",
    "               x=xx2,\n",
    "               y=yx2,\n",
    "               z=xsts.T,\n",
    "               text=textx2, \n",
    "               colorscale=pl_colorscale,     \n",
    "               colorbar=dict(thickness=20, ticklen=4, tick0=-7, dtick=2),\n",
    "               showscale=False, \n",
    "               hoverinfo='text', \n",
    "               zmin=vmin,\n",
    "               zmax=vmax)\n",
    "\n",
    "xy2 = np.linspace(xMNI_min, xMNI_max, imax)\n",
    "yy2 = np.linspace(zMNI_min, zMNI_max, kmax)\n",
    "texty2 = [[f'x: {xy2[j]}<br>z: {yy2[i]}<br>val:'+'{:.2f}'.format(ysts.T[i,j]) for j in range(imax)]\n",
    "          for i in range(kmax)]\n",
    "\n",
    "slicey2 = dict(type='heatmap',\n",
    "               x=xy2,\n",
    "               y=yy2,  \n",
    "               z=ysts.T,\n",
    "               text=texty2, \n",
    "               #zsmooth='best', \n",
    "               colorscale=pl_colorscale,    \n",
    "               colorbar=dict(thickness=20, ticklen=4, tick0=-7, dtick=2),\n",
    "               showscale=False, \n",
    "               hoverinfo='text', \n",
    "               zmin=vmin,\n",
    "               zmax=vmax)\n",
    "\n",
    "xz2 = np.linspace(xMNI_min, xMNI_max, imax)\n",
    "yz2 = np.linspace(yMNI_min, yMNI_max, jmax)\n",
    "textz2 = [[f'x: {xz2[j]}<br>y: {yz2[i]}<br>val:'+'{:.2f}'.format(zsts.T[i,j]) for j in range(imax)]\n",
    "          for i in range(jmax)]\n",
    "\n",
    "slicez2 = dict(type='heatmap',\n",
    "               #zsmooth='best',\n",
    "               x=xz2,\n",
    "               y=yz2, \n",
    "               z=zsts.T,\n",
    "               text=textz2, \n",
    "               colorscale=pl_colorscale, \n",
    "               colorbar=dict(thickness=20, ticklen=4, tick0=-7, dtick=2),\n",
    "               hoverinfo='text',\n",
    "               zmin=vmin,\n",
    "               zmax=vmax)\n",
    "                   "
   ]
  },
  {
   "cell_type": "code",
   "execution_count": null,
   "metadata": {},
   "outputs": [],
   "source": [
    "axis2d = dict(ticklen=4, showticklabels=True)\n",
    "layout2d = dict(width=400, height=400,\n",
    "                xaxis=axis2d,\n",
    "                yaxis=axis2d)\n",
    "   "
   ]
  },
  {
   "cell_type": "code",
   "execution_count": null,
   "metadata": {},
   "outputs": [],
   "source": [
    "fig2dx = go.FigureWidget(data=[slicex2], layout=layout2d)\n",
    "with fig2dx.batch_update():\n",
    "    fig2dx.layout.title = f'Slice x={cut_coords[0]}'\n",
    "    fig2dx.layout.xaxis.update(range=[yMNI_min, yMNI_max], title='y')\n",
    "    fig2dx.layout.yaxis.update(range=[zMNI_min, zMNI_max], title='z')\n",
    "#fig2dx  "
   ]
  },
  {
   "cell_type": "code",
   "execution_count": null,
   "metadata": {},
   "outputs": [],
   "source": [
    "fig2dy = go.FigureWidget(data=[slicey2], layout=layout2d)\n",
    "with fig2dy.batch_update():\n",
    "    fig2dy.layout.title=f'Slice y={cut_coords[1]}'\n",
    "    fig2dy.layout.xaxis.update(range=[xMNI_min, xMNI_max], title='x')\n",
    "    fig2dy.layout.yaxis.update(range=[zMNI_min, zMNI_max], title='z')"
   ]
  },
  {
   "cell_type": "code",
   "execution_count": null,
   "metadata": {},
   "outputs": [],
   "source": [
    "fig2dz = go.FigureWidget(data=[slicez2], layout=layout2d)\n",
    "with fig2dz.batch_update():\n",
    "    fig2dz.layout.height=425\n",
    "    fig2dz.layout.title=f'Slice z={cut_coords[2]}'\n",
    "    fig2dz.layout.xaxis.update(range=[xMNI_min, xMNI_max], title='x')\n",
    "    fig2dz.layout.yaxis.update(range=[yMNI_min, yMNI_max], title='y')\n",
    "#fig2dz "
   ]
  },
  {
   "cell_type": "code",
   "execution_count": null,
   "metadata": {},
   "outputs": [],
   "source": [
    "ipw.HBox([fig2dx, fig2dy, fig2dz])"
   ]
  },
  {
   "cell_type": "markdown",
   "metadata": {},
   "source": [
    "Compare to nilearn view_img:"
   ]
  },
  {
   "cell_type": "code",
   "execution_count": null,
   "metadata": {},
   "outputs": [],
   "source": [
    "%matplotlib inline\n",
    "\n",
    "view = plotting.view_img(stat_img, cut_coords=(13, -27, 50), threshold=3)\n",
    "view"
   ]
  },
  {
   "cell_type": "code",
   "execution_count": null,
   "metadata": {},
   "outputs": [],
   "source": [
    "plotting.plot_stat_map(stat_img,\n",
    "                       threshold=3, title=\"plot_stat_map\",\n",
    "                       cut_coords=(13, -27, 50))\n"
   ]
  },
  {
   "cell_type": "code",
   "execution_count": null,
   "metadata": {},
   "outputs": [],
   "source": []
  }
 ],
 "metadata": {
  "kernelspec": {
   "display_name": "Python 3",
   "language": "python",
   "name": "python3"
  },
  "language_info": {
   "codemirror_mode": {
    "name": "ipython",
    "version": 3
   },
   "file_extension": ".py",
   "mimetype": "text/x-python",
   "name": "python",
   "nbconvert_exporter": "python",
   "pygments_lexer": "ipython3",
   "version": "3.6.4"
  }
 },
 "nbformat": 4,
 "nbformat_minor": 2
}
