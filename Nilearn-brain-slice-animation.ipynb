{
 "cells": [
  {
   "cell_type": "markdown",
   "metadata": {},
   "source": [
    "## <center>Nilearn statistical maps. <br>Brain 3d x, y, z-slice animation</center> ##"
   ]
  },
  {
   "cell_type": "markdown",
   "metadata": {},
   "source": [
    "In the previous [notebook](https://github.com/empet/Plotly-viz-of-brain-images/blob/master/Nilearn-improved-Interactive-brain-slices.ipynb)\n",
    "we presented how to select the cut point in MNI coordinates and plot interactively the 2d projections of the orthogonal \n",
    "brain slices through that point.\n",
    "\n",
    "In this notebook we illustrate  the 3d animation of one of the three  x, y,  z-slices through the brain volume."
   ]
  },
  {
   "cell_type": "code",
   "execution_count": null,
   "metadata": {},
   "outputs": [],
   "source": [
    "from plotly.offline import download_plotlyjs, init_notebook_mode,  iplot\n",
    "init_notebook_mode(connected=True)"
   ]
  },
  {
   "cell_type": "code",
   "execution_count": null,
   "metadata": {},
   "outputs": [],
   "source": [
    "import numpy as np\n",
    "import copy\n",
    "from matplotlib import cm as mpl_cm\n",
    "import matplotlib as mpl\n",
    "from nilearn import (plotting, _utils)"
   ]
  },
  {
   "cell_type": "code",
   "execution_count": null,
   "metadata": {},
   "outputs": [],
   "source": [
    "def mpl_to_plotly(cmap, pl_entries):\n",
    "    h=1.0/(pl_entries-1)\n",
    "    pl_colorscale=[]\n",
    "    for k in range(pl_entries):\n",
    "        C=list(map(np.uint8, np.array(cmap(k*h)[:3])*255))\n",
    "        pl_colorscale.append([round(k*h,2), f'rgb({C[0]}, {C[1]}, {C[2]})'])\n",
    "    return pl_colorscale"
   ]
  },
  {
   "cell_type": "code",
   "execution_count": null,
   "metadata": {},
   "outputs": [],
   "source": [
    "def colorscale(cmap, values, threshold=None, symmetric_cmap=True,\n",
    "               vmax=None, vmin=None):\n",
    "    \"\"\"this function modifies nilearn.plotting.js_plotting_utils.colorscale\n",
    "    It defines a Plotly colorscale from a given nilearn or matplotlib colormap,\n",
    "    extracts the color range and the threshold\"\"\"\n",
    "    \n",
    "    cmap = mpl_cm.get_cmap(cmap)\n",
    "    abs_values = np.abs(values)\n",
    "    \n",
    "    if not symmetric_cmap and (values.min() < 0):\n",
    "        warnings.warn('you have specified symmetric_cmap=False '\n",
    "                      'but the map contains negative values; '\n",
    "                      'setting symmetric_cmap to True')\n",
    "        symmetric_cmap = True\n",
    "    if symmetric_cmap and vmin is not None:\n",
    "        warnings.warn('vmin cannot be chosen when cmap is symmetric')\n",
    "        vmin = None\n",
    "    if threshold is not None:\n",
    "        if vmin is not None:\n",
    "            warnings.warn('choosing both vmin and a threshold is not allowed; '\n",
    "                          'setting vmin to 0')\n",
    "        vmin = 0\n",
    "    if vmax is None:\n",
    "        vmax = abs_values.max()\n",
    "    if symmetric_cmap:\n",
    "        vmin = - vmax\n",
    "    if vmin is None:\n",
    "        vmin = values.min()\n",
    "    \n",
    "    \n",
    "   \n",
    "    abs_threshold = None\n",
    "    if threshold is not None:\n",
    "        abs_threshold = _utils.param_validation.check_threshold(threshold, values, _utils.extmath.fast_abs_percentile)\n",
    "        norm = mpl.colors.Normalize(vmin=vmin, vmax=vmax)\n",
    "        ca = norm(-abs_threshold)\n",
    "        cb = norm(abs_threshold)\n",
    "        h1 = ca/11\n",
    "        dl = [k*h1 for k in range(11)]\n",
    "        h2 = (cb-ca) / 10\n",
    "        dc = [ca+k*h2 for k in range(11)]\n",
    "        h3 = (1-cb-h2) / 10\n",
    "        dr = [cb+h2+k*h3 for k in range(11)]\n",
    "        d = dl+dc+dr\n",
    "        cmaplist = [cmap(t)[:3] for t in d]\n",
    "        for k in range(11):  \n",
    "            cmaplist[k+11] = mpl_cm.gray(k*0.1)[:3]\n",
    "            \n",
    "        pl_colorscale = []\n",
    "   \n",
    "        for k, t in enumerate(d):\n",
    "            c = list(map(np.uint8, np.array(cmaplist[k])*255))\n",
    "            pl_colorscale.append([round(t,3), f'rgb({c[0]}, {c[1]}, {c[2]})'])  \n",
    "    else:\n",
    "        pl_colorscale = mpl_to_plotly(cmap, 11)\n",
    "    return  {\n",
    "        'colorscale': pl_colorscale, 'vmin': vmin, 'vmax': vmax, \n",
    "        'abs_threshold': abs_threshold}"
   ]
  },
  {
   "cell_type": "code",
   "execution_count": null,
   "metadata": {},
   "outputs": [],
   "source": [
    "def pl_view_img(stat_map_img,  bg_img='MNI152', cut_coords= None,\n",
    "             threshold=1e-6,\n",
    "             cmap=plotting.cm.cold_hot,\n",
    "             symmetric_cmap=True,\n",
    "             dim='auto',\n",
    "             vmax=None,\n",
    "             vmin=None,\n",
    "             resampling_interpolation='continuous',\n",
    "             **kwargs):\n",
    "    \"\"\"\n",
    "    Reads and processes the background image (MNI152) and a stats image, to be able to\n",
    "    animate the x, y or z-slice in the brain volume\n",
    "    THIS IS a MODIFIED version of the nilearn view_img function:\n",
    "    https://github.com/nilearn/nilearn/blob/master/nilearn/plotting/html_stat_map.py#L332\n",
    "    It is also a bit different from the function with the same name in the previous notebook\n",
    "    \n",
    "    Returns\n",
    "    -------\n",
    "    color_info, background, statistical and mask image data,\n",
    "    the affine transformation associated to the processed stat image,\n",
    "    the tuple of voxel index, cut_slices=(i, j, k), corresponding to given MNI cut_coords\n",
    "      \n",
    "    \"\"\"    \n",
    "       \n",
    "   \n",
    "    mask_img, stat_map_img, data, threshold = plotting.html_stat_map._mask_stat_map(stat_map_img, threshold)\n",
    "    color_info = colorscale(cmap, data.ravel(), threshold=threshold, \n",
    "                        symmetric_cmap=symmetric_cmap, vmax=vmax,\n",
    "                        vmin=vmin)\n",
    "  \n",
    "    bg_img, bg_min, bg_max, black_bg = plotting.html_stat_map._load_bg_img(stat_map_img, bg_img, dim)\n",
    "    \n",
    "    stat_map_img, mask_img = plotting.html_stat_map._resample_stat_map(stat_map_img, bg_img, mask_img,\n",
    "                                                resampling_interpolation)\n",
    "   \n",
    "    A = stat_map_img.affine\n",
    "    cut_slices =  plotting.html_stat_map._get_cut_slices(stat_map_img, cut_coords, threshold)\n",
    "    \n",
    "    return [color_info, _utils.niimg._safe_get_data(bg_img, ensure_finite=True),  \n",
    "            _utils.niimg._safe_get_data(stat_map_img, ensure_finite=True), \n",
    "            _utils.niimg._safe_get_data(mask_img, ensure_finite=True),  A, cut_slices]\n"
   ]
  },
  {
   "cell_type": "code",
   "execution_count": null,
   "metadata": {},
   "outputs": [],
   "source": [
    "def plotly_slice_traces(bg_img, stat_img, mask_img, A, cut_slices, color_info):\n",
    "    \n",
    "    # min-max MNI-coordinates  corresponding to min-max voxel indices i, j, k:\n",
    "    xMNI_min, yMNI_min, zMNI_min = A[:, 3][:3]\n",
    "    imax, jmax, kmax =stat_map_img.shape \n",
    "    xMNI_max, yMNI_max, zMNI_max, one = np.dot(A, [imax-1, jmax-1, kmax-1, 1])\n",
    "    \n",
    "    xrange=[xMNI_min, xMNI_max]\n",
    "    yrange=[yMNI_min, yMNI_max]\n",
    "    zrange=[zMNI_min, zMNI_max]\n",
    "    \n",
    "    pl_colorscale=color_info['colorscale']\n",
    "    vmin=color_info['vmin']\n",
    "    vmax=color_info['vmax']\n",
    "    abs_threshold=color_info['abs_threshold']\n",
    "    islice, jslice, kslice = np.array(cut_slices-1, int)# voxel indices corresponding to cut_slices\n",
    "\n",
    "    # Mix the backgraound image and statistical image values according to mask_img:\n",
    "    a, b = -abs_threshold, abs_threshold\n",
    "    vmin_bg, vmax_bg = bg_img.min(), bg_img.max()\n",
    "    new_img = copy.deepcopy(stat_map_img)\n",
    "    alpha = (b-a) / (vmax_bg-vmin_bg)  \n",
    "    new_bg = a + alpha * (bg_img-vmin_bg) # map bg_img vals to [a,b]\n",
    "    I, J, K = np.where(mask_img==1)\n",
    "    new_img[I, J, K] = new_bg[I, J, K]\n",
    "\n",
    "    # Define the 2d arrays of values cooresponding to the three slices:\n",
    "    xsts = new_img[islice, :, :]\n",
    "    ysts = new_img[:, jslice, :]\n",
    "    zsts = new_img[:, :, kslice]\n",
    "\n",
    "    # Define the arrays containing the voxel coordinates of the points in each slice:\n",
    "\n",
    "    yx = list(range(xsts.shape[0]))\n",
    "    zx = list(range(xsts.shape[1]))\n",
    "    yx, zx = np.meshgrid(yx, zx)\n",
    "    xx = islice * np.ones(xsts.T.shape)\n",
    "\n",
    "    xy = list(range(ysts.shape[0]))\n",
    "    zy = list(range(ysts.shape[1]))\n",
    "    xy, zy = np.meshgrid(xy, zy)\n",
    "    yy = jslice * np.ones(ysts.T.shape)\n",
    "\n",
    "    xz = list(range(zsts.shape[0]))\n",
    "    yz = list(range(zsts.shape[1]))\n",
    "    xz, yz = np.meshgrid(xz,yz)\n",
    "    zz = kslice * np.ones(zsts.T.shape)\n",
    "\n",
    "    # Transform voxel indices to MNI coordinates:\n",
    "    xx, yx, zx, one_arr = np.einsum('ik, kjm -> ijm', A, np.stack((xx, yx, zx, np.ones(xx.shape)))) \n",
    "    xy, yy, zy, one_arr = np.einsum('ik, kjm -> ijm', A, np.stack((xy, yy, zy, np.ones(yy.shape)))) \n",
    "    xz, yz, zz, one_arr = np.einsum('ik, kjm -> ijm', A, np.stack((xz, yz, zz, np.ones(zz.shape)))) \n",
    "\n",
    "    # Define the Plotly surfaces representing the three slices:\n",
    "    xslice = dict(type='surface',\n",
    "                        x=xx,\n",
    "                        y=yx,\n",
    "                        z=zx,\n",
    "                        name='x-slice',\n",
    "                        surfacecolor=xsts.T,\n",
    "                        colorscale=pl_colorscale,     \n",
    "                        colorbar=dict(thickness=20, ticklen=4, tick0=-7, dtick=2, len=0.75),\n",
    "                        cmin=vmin,\n",
    "                        cmax=vmax)\n",
    "\n",
    "    yslice = dict(type='surface',\n",
    "                        x=xy,\n",
    "                        y=yy,\n",
    "                        z=zy,\n",
    "                        name='y-slice',\n",
    "                        surfacecolor=ysts.T,\n",
    "                        colorscale=pl_colorscale,    \n",
    "                        colorbar=dict(thickness=20, ticklen=4, tick0=-7, dtick=2, len=0.75),\n",
    "                        cmin=vmin,\n",
    "                        cmax=vmax)\n",
    "    zslice = dict(type='surface',\n",
    "                        x=xz,\n",
    "                        y=yz,\n",
    "                        z=zz,\n",
    "                        name='z-slice',\n",
    "                        surfacecolor=zsts.T,\n",
    "                        colorscale=pl_colorscale, \n",
    "                        colorbar=dict(thickness=20, ticklen=4, tick0=-7, dtick=2, len=0.75),\n",
    "                        cmin=vmin,\n",
    "                        cmax=vmax) \n",
    "    \n",
    "    # Define the frames for each animation \n",
    "    xdivs = np.linspace(xMNI_min, xMNI_max, imax)\n",
    "    xframes = [dict(data=[dict(x= xdivs[n]*np.ones(xsts.T.shape),\n",
    "                          surfacecolor=new_img[n, :, :].T)],\n",
    "               name=f'frame{n}',\n",
    "              ) for n in range(8, imax-9)]\n",
    "    \n",
    "    ydivs = np.linspace(yMNI_min, yMNI_max, jmax)\n",
    "    yframes = [dict(data=[dict(y= ydivs[n]*np.ones(ysts.T.shape),\n",
    "                          surfacecolor=new_img[:, n, :].T)],\n",
    "               name=f'frame{n}',\n",
    "               ) for n in range(8, jmax-9)]\n",
    "    \n",
    "    zdivs = np.linspace(zMNI_max, zMNI_min, kmax)\n",
    "    zframes = [dict(data=[dict(z= zdivs[n]*np.ones(zsts.T.shape),\n",
    "                          surfacecolor=new_img[:, :, n].T)],\n",
    "               name=f'frame{n}',\n",
    "               ) for n in range(4, kmax-13)]\n",
    "    \n",
    "    return xslice, yslice, zslice, xframes, yframes, zframes, xrange, yrange, zrange"
   ]
  },
  {
   "cell_type": "markdown",
   "metadata": {},
   "source": [
    "### Plotly plots of  slices in the 3d space referenced to the MNI-system of coordinates"
   ]
  },
  {
   "cell_type": "code",
   "execution_count": null,
   "metadata": {},
   "outputs": [],
   "source": [
    "axis3d = dict(showbackground=True, \n",
    "            backgroundcolor=\"rgb(230, 230,230)\",\n",
    "            gridcolor=\"rgb(255, 255, 255)\",      \n",
    "            zerolinecolor=\"rgb(255, 255, 255)\", \n",
    "            ticklen=4,\n",
    "            tickfont=dict(size=11)  \n",
    "            )\n",
    "\n",
    "\n",
    "layout = dict(width=600,\n",
    "              height=600,\n",
    "              scene=dict(xaxis=dict(axis3d),\n",
    "                    yaxis=dict(axis3d), \n",
    "                    zaxis=dict(axis3d),\n",
    "                    camera=dict(eye=dict(x=1.4, y=1.4, z=1.15))     \n",
    "                    ),\n",
    "              updatemenus=[dict(type='buttons', showactive=False,\n",
    "                                  y=1,\n",
    "                                  x=1.32,\n",
    "                                  xanchor='right',\n",
    "                                  yanchor='top',\n",
    "                                  pad=dict(t=0, r=10),\n",
    "                                  buttons=[dict(label='Play',\n",
    "                                                method='animate',\n",
    "                                                args=[None, \n",
    "                                                      dict(frame=dict(duration=70, \n",
    "                                                                      redraw=False),\n",
    "                                                           transition=dict(duration=0),\n",
    "                                                           fromcurrent=True,\n",
    "                                                           mode='immediate')\n",
    "                                                     ]\n",
    "                                              )\n",
    "                                         ]\n",
    "                                )\n",
    "                          ]\n",
    "\n",
    "         )"
   ]
  },
  {
   "cell_type": "code",
   "execution_count": null,
   "metadata": {},
   "outputs": [],
   "source": [
    "stat_img = 'Data/image_10426.nii.gz'\n",
    "cut_coords = [-90, -27, -20]\n",
    "color_info, bg_img, stat_map_img, mask_img,  A, cut_slices = pl_view_img(stat_img, cut_coords= cut_coords, threshold=3)\n",
    "\n",
    "xslice, yslice, zslice, xframes, yframes, zframes, xrange, yrange, zrange = \\\n",
    "                plotly_slice_traces(bg_img, stat_img, mask_img, A, cut_slices, color_info)"
   ]
  },
  {
   "cell_type": "markdown",
   "metadata": {},
   "source": [
    "Define the frames for x-slice, y-slice, respectively z-slice animation:"
   ]
  },
  {
   "cell_type": "code",
   "execution_count": null,
   "metadata": {},
   "outputs": [],
   "source": [
    "figx = dict(data=[xslice], layout=layout, frames=xframes)\n",
    "figx['layout']['scene']['xaxis'].update(range=xrange)\n",
    "figx['layout']['title'] = 'x-slice animation'\n",
    "\n",
    "iplot(figx, validate=False)"
   ]
  },
  {
   "cell_type": "code",
   "execution_count": null,
   "metadata": {},
   "outputs": [],
   "source": [
    "figy = dict(data=[yslice], layout=layout, frames=yframes)\n",
    "figy['layout']['scene']['yaxis'].update(range=yrange)\n",
    "figy['layout']['title'] = 'y-slice animation'\n",
    "\n",
    "iplot(figy, validate=False)"
   ]
  },
  {
   "cell_type": "code",
   "execution_count": null,
   "metadata": {},
   "outputs": [],
   "source": [
    "figz = dict(data=[zslice], layout=layout, frames=zframes)\n",
    "figz['layout']['scene']['zaxis'].update(range=zrange)\n",
    "figz['layout']['title'] = 'z-slice'\n",
    "\n",
    "iplot(figz, validate=False)"
   ]
  },
  {
   "cell_type": "markdown",
   "metadata": {},
   "source": [
    "Gif file of x-slice animation:"
   ]
  },
  {
   "cell_type": "code",
   "execution_count": 1,
   "metadata": {},
   "outputs": [
    {
     "data": {
      "text/html": [
       "<img src='x-sliceg.gif'>"
      ],
      "text/plain": [
       "<IPython.core.display.HTML object>"
      ]
     },
     "metadata": {},
     "output_type": "display_data"
    }
   ],
   "source": [
    "%%html\n",
    "<img src='x-sliceg.gif'>"
   ]
  },
  {
   "cell_type": "code",
   "execution_count": null,
   "metadata": {},
   "outputs": [],
   "source": []
  }
 ],
 "metadata": {
  "kernelspec": {
   "display_name": "Python 3",
   "language": "python",
   "name": "python3"
  },
  "language_info": {
   "codemirror_mode": {
    "name": "ipython",
    "version": 3
   },
   "file_extension": ".py",
   "mimetype": "text/x-python",
   "name": "python",
   "nbconvert_exporter": "python",
   "pygments_lexer": "ipython3",
   "version": "3.6.4"
  }
 },
 "nbformat": 4,
 "nbformat_minor": 2
}
